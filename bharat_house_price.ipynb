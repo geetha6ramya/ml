{
  "cells": [
    {
      "cell_type": "code",
      "execution_count": null,
      "metadata": {
        "id": "UrbFpPAuQ_Os"
      },
      "outputs": [],
      "source": [
        "# Import necessary libraries\n",
        "import pandas as pd\n",
        "from sklearn.model_selection import train_test_split\n",
        "from sklearn.preprocessing import StandardScaler\n",
        "from sklearn.linear_model import LinearRegression\n",
        "from sklearn.metrics import mean_squared_error\n",
        "import tensorflow as tf\n",
        "from tensorflow.keras.models import Sequential\n",
        "from tensorflow.keras.layers import Dense"
      ]
    },
    {
      "cell_type": "code",
      "execution_count": null,
      "metadata": {
        "id": "fbYkYd_4QANh"
      },
      "outputs": [],
      "source": [
        "# Load your dataset (assuming it's in a CSV file)\n",
        "df = pd.read_csv('housep.csv')\n"
      ]
    },
    {
      "cell_type": "code",
      "execution_count": null,
      "metadata": {
        "colab": {
          "base_uri": "https://localhost:8080/",
          "height": 424
        },
        "id": "qQaDAg5hRJO5",
        "outputId": "3ee2e428-9441-498e-ea73-96630c6456b5"
      },
      "outputs": [
        {
          "data": {
            "application/vnd.google.colaboratory.intrinsic+json": {
              "summary": "{\n  \"name\": \"df\",\n  \"rows\": 29135,\n  \"fields\": [\n    {\n      \"column\": \"Unnamed: 0\",\n      \"properties\": {\n        \"dtype\": \"number\",\n        \"std\": 1923,\n        \"min\": 0,\n        \"max\": 7718,\n        \"samples\": [\n          7383,\n          6225,\n          6704\n        ],\n        \"num_unique_values\": 7657,\n        \"semantic_type\": \"\",\n        \"description\": \"\"\n      }\n    },\n    {\n      \"column\": \"City\",\n      \"properties\": {\n        \"dtype\": \"category\",\n        \"samples\": [\n          \"Bangalore\",\n          \"Chennai\",\n          \"Mumbai\"\n        ],\n        \"num_unique_values\": 6,\n        \"semantic_type\": \"\",\n        \"description\": \"\"\n      }\n    },\n    {\n      \"column\": \"Price\",\n      \"properties\": {\n        \"dtype\": \"number\",\n        \"std\": 23876465,\n        \"min\": 2000000,\n        \"max\": 854599999,\n        \"samples\": [\n          2613000,\n          3326000,\n          17400000\n        ],\n        \"num_unique_values\": 4924,\n        \"semantic_type\": \"\",\n        \"description\": \"\"\n      }\n    },\n    {\n      \"column\": \"Area\",\n      \"properties\": {\n        \"dtype\": \"number\",\n        \"std\": 767,\n        \"min\": 200,\n        \"max\": 16000,\n        \"samples\": [\n          1259,\n          1477,\n          1079\n        ],\n        \"num_unique_values\": 2452,\n        \"semantic_type\": \"\",\n        \"description\": \"\"\n      }\n    },\n    {\n      \"column\": \"Location\",\n      \"properties\": {\n        \"dtype\": \"category\",\n        \"samples\": [\n          \"JP Nagar Phase 7\",\n          \"BK Guda Internal Road\",\n          \"Charkop Sector 8\"\n        ],\n        \"num_unique_values\": 1776,\n        \"semantic_type\": \"\",\n        \"description\": \"\"\n      }\n    },\n    {\n      \"column\": \"Bedrooms\",\n      \"properties\": {\n        \"dtype\": \"number\",\n        \"std\": 0,\n        \"min\": 1,\n        \"max\": 9,\n        \"samples\": [\n          8,\n          2,\n          6\n        ],\n        \"num_unique_values\": 9,\n        \"semantic_type\": \"\",\n        \"description\": \"\"\n      }\n    }\n  ]\n}",
              "type": "dataframe",
              "variable_name": "df"
            },
            "text/html": [
              "\n",
              "  <div id=\"df-9decdebd-fef2-4326-9592-66a585740d1c\" class=\"colab-df-container\">\n",
              "    <div>\n",
              "<style scoped>\n",
              "    .dataframe tbody tr th:only-of-type {\n",
              "        vertical-align: middle;\n",
              "    }\n",
              "\n",
              "    .dataframe tbody tr th {\n",
              "        vertical-align: top;\n",
              "    }\n",
              "\n",
              "    .dataframe thead th {\n",
              "        text-align: right;\n",
              "    }\n",
              "</style>\n",
              "<table border=\"1\" class=\"dataframe\">\n",
              "  <thead>\n",
              "    <tr style=\"text-align: right;\">\n",
              "      <th></th>\n",
              "      <th>Unnamed: 0</th>\n",
              "      <th>City</th>\n",
              "      <th>Price</th>\n",
              "      <th>Area</th>\n",
              "      <th>Location</th>\n",
              "      <th>Bedrooms</th>\n",
              "    </tr>\n",
              "  </thead>\n",
              "  <tbody>\n",
              "    <tr>\n",
              "      <th>0</th>\n",
              "      <td>0</td>\n",
              "      <td>Bangalore</td>\n",
              "      <td>30000000</td>\n",
              "      <td>3340</td>\n",
              "      <td>JP Nagar Phase 1</td>\n",
              "      <td>4</td>\n",
              "    </tr>\n",
              "    <tr>\n",
              "      <th>1</th>\n",
              "      <td>1</td>\n",
              "      <td>Bangalore</td>\n",
              "      <td>7888000</td>\n",
              "      <td>1045</td>\n",
              "      <td>Dasarahalli on Tumkur Road</td>\n",
              "      <td>2</td>\n",
              "    </tr>\n",
              "    <tr>\n",
              "      <th>2</th>\n",
              "      <td>2</td>\n",
              "      <td>Bangalore</td>\n",
              "      <td>4866000</td>\n",
              "      <td>1179</td>\n",
              "      <td>Kannur on Thanisandra Main Road</td>\n",
              "      <td>2</td>\n",
              "    </tr>\n",
              "    <tr>\n",
              "      <th>3</th>\n",
              "      <td>3</td>\n",
              "      <td>Bangalore</td>\n",
              "      <td>8358000</td>\n",
              "      <td>1675</td>\n",
              "      <td>Doddanekundi</td>\n",
              "      <td>3</td>\n",
              "    </tr>\n",
              "    <tr>\n",
              "      <th>4</th>\n",
              "      <td>4</td>\n",
              "      <td>Bangalore</td>\n",
              "      <td>6845000</td>\n",
              "      <td>1670</td>\n",
              "      <td>Kengeri</td>\n",
              "      <td>3</td>\n",
              "    </tr>\n",
              "    <tr>\n",
              "      <th>...</th>\n",
              "      <td>...</td>\n",
              "      <td>...</td>\n",
              "      <td>...</td>\n",
              "      <td>...</td>\n",
              "      <td>...</td>\n",
              "      <td>...</td>\n",
              "    </tr>\n",
              "    <tr>\n",
              "      <th>29130</th>\n",
              "      <td>7714</td>\n",
              "      <td>Mumbai</td>\n",
              "      <td>14500000</td>\n",
              "      <td>1180</td>\n",
              "      <td>Mira Road East</td>\n",
              "      <td>2</td>\n",
              "    </tr>\n",
              "    <tr>\n",
              "      <th>29131</th>\n",
              "      <td>7715</td>\n",
              "      <td>Mumbai</td>\n",
              "      <td>14500000</td>\n",
              "      <td>530</td>\n",
              "      <td>Naigaon East</td>\n",
              "      <td>1</td>\n",
              "    </tr>\n",
              "    <tr>\n",
              "      <th>29132</th>\n",
              "      <td>7716</td>\n",
              "      <td>Mumbai</td>\n",
              "      <td>4100000</td>\n",
              "      <td>700</td>\n",
              "      <td>Shirgaon</td>\n",
              "      <td>1</td>\n",
              "    </tr>\n",
              "    <tr>\n",
              "      <th>29133</th>\n",
              "      <td>7717</td>\n",
              "      <td>Mumbai</td>\n",
              "      <td>2750000</td>\n",
              "      <td>995</td>\n",
              "      <td>Mira Road East</td>\n",
              "      <td>2</td>\n",
              "    </tr>\n",
              "    <tr>\n",
              "      <th>29134</th>\n",
              "      <td>7718</td>\n",
              "      <td>Mumbai</td>\n",
              "      <td>2750000</td>\n",
              "      <td>1020</td>\n",
              "      <td>Mira Road East</td>\n",
              "      <td>2</td>\n",
              "    </tr>\n",
              "  </tbody>\n",
              "</table>\n",
              "<p>29135 rows × 6 columns</p>\n",
              "</div>\n",
              "    <div class=\"colab-df-buttons\">\n",
              "\n",
              "  <div class=\"colab-df-container\">\n",
              "    <button class=\"colab-df-convert\" onclick=\"convertToInteractive('df-9decdebd-fef2-4326-9592-66a585740d1c')\"\n",
              "            title=\"Convert this dataframe to an interactive table.\"\n",
              "            style=\"display:none;\">\n",
              "\n",
              "  <svg xmlns=\"http://www.w3.org/2000/svg\" height=\"24px\" viewBox=\"0 -960 960 960\">\n",
              "    <path d=\"M120-120v-720h720v720H120Zm60-500h600v-160H180v160Zm220 220h160v-160H400v160Zm0 220h160v-160H400v160ZM180-400h160v-160H180v160Zm440 0h160v-160H620v160ZM180-180h160v-160H180v160Zm440 0h160v-160H620v160Z\"/>\n",
              "  </svg>\n",
              "    </button>\n",
              "\n",
              "  <style>\n",
              "    .colab-df-container {\n",
              "      display:flex;\n",
              "      gap: 12px;\n",
              "    }\n",
              "\n",
              "    .colab-df-convert {\n",
              "      background-color: #E8F0FE;\n",
              "      border: none;\n",
              "      border-radius: 50%;\n",
              "      cursor: pointer;\n",
              "      display: none;\n",
              "      fill: #1967D2;\n",
              "      height: 32px;\n",
              "      padding: 0 0 0 0;\n",
              "      width: 32px;\n",
              "    }\n",
              "\n",
              "    .colab-df-convert:hover {\n",
              "      background-color: #E2EBFA;\n",
              "      box-shadow: 0px 1px 2px rgba(60, 64, 67, 0.3), 0px 1px 3px 1px rgba(60, 64, 67, 0.15);\n",
              "      fill: #174EA6;\n",
              "    }\n",
              "\n",
              "    .colab-df-buttons div {\n",
              "      margin-bottom: 4px;\n",
              "    }\n",
              "\n",
              "    [theme=dark] .colab-df-convert {\n",
              "      background-color: #3B4455;\n",
              "      fill: #D2E3FC;\n",
              "    }\n",
              "\n",
              "    [theme=dark] .colab-df-convert:hover {\n",
              "      background-color: #434B5C;\n",
              "      box-shadow: 0px 1px 3px 1px rgba(0, 0, 0, 0.15);\n",
              "      filter: drop-shadow(0px 1px 2px rgba(0, 0, 0, 0.3));\n",
              "      fill: #FFFFFF;\n",
              "    }\n",
              "  </style>\n",
              "\n",
              "    <script>\n",
              "      const buttonEl =\n",
              "        document.querySelector('#df-9decdebd-fef2-4326-9592-66a585740d1c button.colab-df-convert');\n",
              "      buttonEl.style.display =\n",
              "        google.colab.kernel.accessAllowed ? 'block' : 'none';\n",
              "\n",
              "      async function convertToInteractive(key) {\n",
              "        const element = document.querySelector('#df-9decdebd-fef2-4326-9592-66a585740d1c');\n",
              "        const dataTable =\n",
              "          await google.colab.kernel.invokeFunction('convertToInteractive',\n",
              "                                                    [key], {});\n",
              "        if (!dataTable) return;\n",
              "\n",
              "        const docLinkHtml = 'Like what you see? Visit the ' +\n",
              "          '<a target=\"_blank\" href=https://colab.research.google.com/notebooks/data_table.ipynb>data table notebook</a>'\n",
              "          + ' to learn more about interactive tables.';\n",
              "        element.innerHTML = '';\n",
              "        dataTable['output_type'] = 'display_data';\n",
              "        await google.colab.output.renderOutput(dataTable, element);\n",
              "        const docLink = document.createElement('div');\n",
              "        docLink.innerHTML = docLinkHtml;\n",
              "        element.appendChild(docLink);\n",
              "      }\n",
              "    </script>\n",
              "  </div>\n",
              "\n",
              "\n",
              "<div id=\"df-9d564390-4cdd-48dd-a80e-7fac9e28cce7\">\n",
              "  <button class=\"colab-df-quickchart\" onclick=\"quickchart('df-9d564390-4cdd-48dd-a80e-7fac9e28cce7')\"\n",
              "            title=\"Suggest charts\"\n",
              "            style=\"display:none;\">\n",
              "\n",
              "<svg xmlns=\"http://www.w3.org/2000/svg\" height=\"24px\"viewBox=\"0 0 24 24\"\n",
              "     width=\"24px\">\n",
              "    <g>\n",
              "        <path d=\"M19 3H5c-1.1 0-2 .9-2 2v14c0 1.1.9 2 2 2h14c1.1 0 2-.9 2-2V5c0-1.1-.9-2-2-2zM9 17H7v-7h2v7zm4 0h-2V7h2v10zm4 0h-2v-4h2v4z\"/>\n",
              "    </g>\n",
              "</svg>\n",
              "  </button>\n",
              "\n",
              "<style>\n",
              "  .colab-df-quickchart {\n",
              "      --bg-color: #E8F0FE;\n",
              "      --fill-color: #1967D2;\n",
              "      --hover-bg-color: #E2EBFA;\n",
              "      --hover-fill-color: #174EA6;\n",
              "      --disabled-fill-color: #AAA;\n",
              "      --disabled-bg-color: #DDD;\n",
              "  }\n",
              "\n",
              "  [theme=dark] .colab-df-quickchart {\n",
              "      --bg-color: #3B4455;\n",
              "      --fill-color: #D2E3FC;\n",
              "      --hover-bg-color: #434B5C;\n",
              "      --hover-fill-color: #FFFFFF;\n",
              "      --disabled-bg-color: #3B4455;\n",
              "      --disabled-fill-color: #666;\n",
              "  }\n",
              "\n",
              "  .colab-df-quickchart {\n",
              "    background-color: var(--bg-color);\n",
              "    border: none;\n",
              "    border-radius: 50%;\n",
              "    cursor: pointer;\n",
              "    display: none;\n",
              "    fill: var(--fill-color);\n",
              "    height: 32px;\n",
              "    padding: 0;\n",
              "    width: 32px;\n",
              "  }\n",
              "\n",
              "  .colab-df-quickchart:hover {\n",
              "    background-color: var(--hover-bg-color);\n",
              "    box-shadow: 0 1px 2px rgba(60, 64, 67, 0.3), 0 1px 3px 1px rgba(60, 64, 67, 0.15);\n",
              "    fill: var(--button-hover-fill-color);\n",
              "  }\n",
              "\n",
              "  .colab-df-quickchart-complete:disabled,\n",
              "  .colab-df-quickchart-complete:disabled:hover {\n",
              "    background-color: var(--disabled-bg-color);\n",
              "    fill: var(--disabled-fill-color);\n",
              "    box-shadow: none;\n",
              "  }\n",
              "\n",
              "  .colab-df-spinner {\n",
              "    border: 2px solid var(--fill-color);\n",
              "    border-color: transparent;\n",
              "    border-bottom-color: var(--fill-color);\n",
              "    animation:\n",
              "      spin 1s steps(1) infinite;\n",
              "  }\n",
              "\n",
              "  @keyframes spin {\n",
              "    0% {\n",
              "      border-color: transparent;\n",
              "      border-bottom-color: var(--fill-color);\n",
              "      border-left-color: var(--fill-color);\n",
              "    }\n",
              "    20% {\n",
              "      border-color: transparent;\n",
              "      border-left-color: var(--fill-color);\n",
              "      border-top-color: var(--fill-color);\n",
              "    }\n",
              "    30% {\n",
              "      border-color: transparent;\n",
              "      border-left-color: var(--fill-color);\n",
              "      border-top-color: var(--fill-color);\n",
              "      border-right-color: var(--fill-color);\n",
              "    }\n",
              "    40% {\n",
              "      border-color: transparent;\n",
              "      border-right-color: var(--fill-color);\n",
              "      border-top-color: var(--fill-color);\n",
              "    }\n",
              "    60% {\n",
              "      border-color: transparent;\n",
              "      border-right-color: var(--fill-color);\n",
              "    }\n",
              "    80% {\n",
              "      border-color: transparent;\n",
              "      border-right-color: var(--fill-color);\n",
              "      border-bottom-color: var(--fill-color);\n",
              "    }\n",
              "    90% {\n",
              "      border-color: transparent;\n",
              "      border-bottom-color: var(--fill-color);\n",
              "    }\n",
              "  }\n",
              "</style>\n",
              "\n",
              "  <script>\n",
              "    async function quickchart(key) {\n",
              "      const quickchartButtonEl =\n",
              "        document.querySelector('#' + key + ' button');\n",
              "      quickchartButtonEl.disabled = true;  // To prevent multiple clicks.\n",
              "      quickchartButtonEl.classList.add('colab-df-spinner');\n",
              "      try {\n",
              "        const charts = await google.colab.kernel.invokeFunction(\n",
              "            'suggestCharts', [key], {});\n",
              "      } catch (error) {\n",
              "        console.error('Error during call to suggestCharts:', error);\n",
              "      }\n",
              "      quickchartButtonEl.classList.remove('colab-df-spinner');\n",
              "      quickchartButtonEl.classList.add('colab-df-quickchart-complete');\n",
              "    }\n",
              "    (() => {\n",
              "      let quickchartButtonEl =\n",
              "        document.querySelector('#df-9d564390-4cdd-48dd-a80e-7fac9e28cce7 button');\n",
              "      quickchartButtonEl.style.display =\n",
              "        google.colab.kernel.accessAllowed ? 'block' : 'none';\n",
              "    })();\n",
              "  </script>\n",
              "</div>\n",
              "\n",
              "  <div id=\"id_c811b9c4-7cd1-491c-8a83-5a58ce4a00dd\">\n",
              "    <style>\n",
              "      .colab-df-generate {\n",
              "        background-color: #E8F0FE;\n",
              "        border: none;\n",
              "        border-radius: 50%;\n",
              "        cursor: pointer;\n",
              "        display: none;\n",
              "        fill: #1967D2;\n",
              "        height: 32px;\n",
              "        padding: 0 0 0 0;\n",
              "        width: 32px;\n",
              "      }\n",
              "\n",
              "      .colab-df-generate:hover {\n",
              "        background-color: #E2EBFA;\n",
              "        box-shadow: 0px 1px 2px rgba(60, 64, 67, 0.3), 0px 1px 3px 1px rgba(60, 64, 67, 0.15);\n",
              "        fill: #174EA6;\n",
              "      }\n",
              "\n",
              "      [theme=dark] .colab-df-generate {\n",
              "        background-color: #3B4455;\n",
              "        fill: #D2E3FC;\n",
              "      }\n",
              "\n",
              "      [theme=dark] .colab-df-generate:hover {\n",
              "        background-color: #434B5C;\n",
              "        box-shadow: 0px 1px 3px 1px rgba(0, 0, 0, 0.15);\n",
              "        filter: drop-shadow(0px 1px 2px rgba(0, 0, 0, 0.3));\n",
              "        fill: #FFFFFF;\n",
              "      }\n",
              "    </style>\n",
              "    <button class=\"colab-df-generate\" onclick=\"generateWithVariable('df')\"\n",
              "            title=\"Generate code using this dataframe.\"\n",
              "            style=\"display:none;\">\n",
              "\n",
              "  <svg xmlns=\"http://www.w3.org/2000/svg\" height=\"24px\"viewBox=\"0 0 24 24\"\n",
              "       width=\"24px\">\n",
              "    <path d=\"M7,19H8.4L18.45,9,17,7.55,7,17.6ZM5,21V16.75L18.45,3.32a2,2,0,0,1,2.83,0l1.4,1.43a1.91,1.91,0,0,1,.58,1.4,1.91,1.91,0,0,1-.58,1.4L9.25,21ZM18.45,9,17,7.55Zm-12,3A5.31,5.31,0,0,0,4.9,8.1,5.31,5.31,0,0,0,1,6.5,5.31,5.31,0,0,0,4.9,4.9,5.31,5.31,0,0,0,6.5,1,5.31,5.31,0,0,0,8.1,4.9,5.31,5.31,0,0,0,12,6.5,5.46,5.46,0,0,0,6.5,12Z\"/>\n",
              "  </svg>\n",
              "    </button>\n",
              "    <script>\n",
              "      (() => {\n",
              "      const buttonEl =\n",
              "        document.querySelector('#id_c811b9c4-7cd1-491c-8a83-5a58ce4a00dd button.colab-df-generate');\n",
              "      buttonEl.style.display =\n",
              "        google.colab.kernel.accessAllowed ? 'block' : 'none';\n",
              "\n",
              "      buttonEl.onclick = () => {\n",
              "        google.colab.notebook.generateWithVariable('df');\n",
              "      }\n",
              "      })();\n",
              "    </script>\n",
              "  </div>\n",
              "\n",
              "    </div>\n",
              "  </div>\n"
            ],
            "text/plain": [
              "       Unnamed: 0       City     Price  Area                         Location  \\\n",
              "0               0  Bangalore  30000000  3340                 JP Nagar Phase 1   \n",
              "1               1  Bangalore   7888000  1045       Dasarahalli on Tumkur Road   \n",
              "2               2  Bangalore   4866000  1179  Kannur on Thanisandra Main Road   \n",
              "3               3  Bangalore   8358000  1675                     Doddanekundi   \n",
              "4               4  Bangalore   6845000  1670                          Kengeri   \n",
              "...           ...        ...       ...   ...                              ...   \n",
              "29130        7714     Mumbai  14500000  1180                   Mira Road East   \n",
              "29131        7715     Mumbai  14500000   530                     Naigaon East   \n",
              "29132        7716     Mumbai   4100000   700                         Shirgaon   \n",
              "29133        7717     Mumbai   2750000   995                   Mira Road East   \n",
              "29134        7718     Mumbai   2750000  1020                   Mira Road East   \n",
              "\n",
              "       Bedrooms  \n",
              "0             4  \n",
              "1             2  \n",
              "2             2  \n",
              "3             3  \n",
              "4             3  \n",
              "...         ...  \n",
              "29130         2  \n",
              "29131         1  \n",
              "29132         1  \n",
              "29133         2  \n",
              "29134         2  \n",
              "\n",
              "[29135 rows x 6 columns]"
            ]
          },
          "execution_count": 24,
          "metadata": {},
          "output_type": "execute_result"
        }
      ],
      "source": [
        "df"
      ]
    },
    {
      "cell_type": "code",
      "execution_count": null,
      "metadata": {
        "id": "0Ekd3BVEQFCx"
      },
      "outputs": [],
      "source": [
        "# Extract features and target variable\n",
        "X = df[['City', 'Area', 'Location', 'Bedrooms']]\n",
        "y = df['Price']"
      ]
    },
    {
      "cell_type": "code",
      "execution_count": null,
      "metadata": {
        "id": "4SRTULOMQJAN"
      },
      "outputs": [],
      "source": [
        "\n",
        "# Convert categorical features to numerical using one-hot encoding\n",
        "X = pd.get_dummies(X, columns=['City', 'Location'])"
      ]
    },
    {
      "cell_type": "code",
      "execution_count": null,
      "metadata": {
        "id": "ypk4T29QQNvn"
      },
      "outputs": [],
      "source": [
        "# Split the dataset into training and testing sets\n",
        "X_train, X_test, y_train, y_test = train_test_split(X, y, test_size=0.2, random_state=42)"
      ]
    },
    {
      "cell_type": "code",
      "execution_count": null,
      "metadata": {
        "id": "VLpR_DGkQON3"
      },
      "outputs": [],
      "source": [
        "# Standardize the features using StandardScaler\n",
        "scaler = StandardScaler()\n",
        "X_train_scaled = scaler.fit_transform(X_train)\n",
        "X_test_scaled = scaler.transform(X_test)\n"
      ]
    },
    {
      "cell_type": "code",
      "execution_count": null,
      "metadata": {
        "colab": {
          "base_uri": "https://localhost:8080/",
          "height": 75
        },
        "id": "fWBrXQZmQUzH",
        "outputId": "71d4a343-9079-4b24-e667-cda210408da1"
      },
      "outputs": [
        {
          "data": {
            "text/html": [
              "<style>#sk-container-id-1 {color: black;background-color: white;}#sk-container-id-1 pre{padding: 0;}#sk-container-id-1 div.sk-toggleable {background-color: white;}#sk-container-id-1 label.sk-toggleable__label {cursor: pointer;display: block;width: 100%;margin-bottom: 0;padding: 0.3em;box-sizing: border-box;text-align: center;}#sk-container-id-1 label.sk-toggleable__label-arrow:before {content: \"▸\";float: left;margin-right: 0.25em;color: #696969;}#sk-container-id-1 label.sk-toggleable__label-arrow:hover:before {color: black;}#sk-container-id-1 div.sk-estimator:hover label.sk-toggleable__label-arrow:before {color: black;}#sk-container-id-1 div.sk-toggleable__content {max-height: 0;max-width: 0;overflow: hidden;text-align: left;background-color: #f0f8ff;}#sk-container-id-1 div.sk-toggleable__content pre {margin: 0.2em;color: black;border-radius: 0.25em;background-color: #f0f8ff;}#sk-container-id-1 input.sk-toggleable__control:checked~div.sk-toggleable__content {max-height: 200px;max-width: 100%;overflow: auto;}#sk-container-id-1 input.sk-toggleable__control:checked~label.sk-toggleable__label-arrow:before {content: \"▾\";}#sk-container-id-1 div.sk-estimator input.sk-toggleable__control:checked~label.sk-toggleable__label {background-color: #d4ebff;}#sk-container-id-1 div.sk-label input.sk-toggleable__control:checked~label.sk-toggleable__label {background-color: #d4ebff;}#sk-container-id-1 input.sk-hidden--visually {border: 0;clip: rect(1px 1px 1px 1px);clip: rect(1px, 1px, 1px, 1px);height: 1px;margin: -1px;overflow: hidden;padding: 0;position: absolute;width: 1px;}#sk-container-id-1 div.sk-estimator {font-family: monospace;background-color: #f0f8ff;border: 1px dotted black;border-radius: 0.25em;box-sizing: border-box;margin-bottom: 0.5em;}#sk-container-id-1 div.sk-estimator:hover {background-color: #d4ebff;}#sk-container-id-1 div.sk-parallel-item::after {content: \"\";width: 100%;border-bottom: 1px solid gray;flex-grow: 1;}#sk-container-id-1 div.sk-label:hover label.sk-toggleable__label {background-color: #d4ebff;}#sk-container-id-1 div.sk-serial::before {content: \"\";position: absolute;border-left: 1px solid gray;box-sizing: border-box;top: 0;bottom: 0;left: 50%;z-index: 0;}#sk-container-id-1 div.sk-serial {display: flex;flex-direction: column;align-items: center;background-color: white;padding-right: 0.2em;padding-left: 0.2em;position: relative;}#sk-container-id-1 div.sk-item {position: relative;z-index: 1;}#sk-container-id-1 div.sk-parallel {display: flex;align-items: stretch;justify-content: center;background-color: white;position: relative;}#sk-container-id-1 div.sk-item::before, #sk-container-id-1 div.sk-parallel-item::before {content: \"\";position: absolute;border-left: 1px solid gray;box-sizing: border-box;top: 0;bottom: 0;left: 50%;z-index: -1;}#sk-container-id-1 div.sk-parallel-item {display: flex;flex-direction: column;z-index: 1;position: relative;background-color: white;}#sk-container-id-1 div.sk-parallel-item:first-child::after {align-self: flex-end;width: 50%;}#sk-container-id-1 div.sk-parallel-item:last-child::after {align-self: flex-start;width: 50%;}#sk-container-id-1 div.sk-parallel-item:only-child::after {width: 0;}#sk-container-id-1 div.sk-dashed-wrapped {border: 1px dashed gray;margin: 0 0.4em 0.5em 0.4em;box-sizing: border-box;padding-bottom: 0.4em;background-color: white;}#sk-container-id-1 div.sk-label label {font-family: monospace;font-weight: bold;display: inline-block;line-height: 1.2em;}#sk-container-id-1 div.sk-label-container {text-align: center;}#sk-container-id-1 div.sk-container {/* jupyter's `normalize.less` sets `[hidden] { display: none; }` but bootstrap.min.css set `[hidden] { display: none !important; }` so we also need the `!important` here to be able to override the default hidden behavior on the sphinx rendered scikit-learn.org. See: https://github.com/scikit-learn/scikit-learn/issues/21755 */display: inline-block !important;position: relative;}#sk-container-id-1 div.sk-text-repr-fallback {display: none;}</style><div id=\"sk-container-id-1\" class=\"sk-top-container\"><div class=\"sk-text-repr-fallback\"><pre>LinearRegression()</pre><b>In a Jupyter environment, please rerun this cell to show the HTML representation or trust the notebook. <br />On GitHub, the HTML representation is unable to render, please try loading this page with nbviewer.org.</b></div><div class=\"sk-container\" hidden><div class=\"sk-item\"><div class=\"sk-estimator sk-toggleable\"><input class=\"sk-toggleable__control sk-hidden--visually\" id=\"sk-estimator-id-1\" type=\"checkbox\" checked><label for=\"sk-estimator-id-1\" class=\"sk-toggleable__label sk-toggleable__label-arrow\">LinearRegression</label><div class=\"sk-toggleable__content\"><pre>LinearRegression()</pre></div></div></div></div></div>"
            ],
            "text/plain": [
              "LinearRegression()"
            ]
          },
          "execution_count": 31,
          "metadata": {},
          "output_type": "execute_result"
        }
      ],
      "source": [
        "# Train a linear regression model (scikit-learn)\n",
        "linear_reg_model = LinearRegression()\n",
        "linear_reg_model.fit(X_train_scaled, y_train)\n"
      ]
    },
    {
      "cell_type": "code",
      "execution_count": null,
      "metadata": {
        "id": "RZbW_8f0QX0p"
      },
      "outputs": [],
      "source": [
        "# Make predictions on the test set\n",
        "y_pred = linear_reg_model.predict(X_test_scaled)\n"
      ]
    },
    {
      "cell_type": "code",
      "execution_count": null,
      "metadata": {
        "colab": {
          "base_uri": "https://localhost:8080/"
        },
        "id": "d5AJlbR0QcEL",
        "outputId": "861d5f5e-74b0-4352-de59-f020ce31e678"
      },
      "outputs": [
        {
          "name": "stdout",
          "output_type": "stream",
          "text": [
            "Linear Regression Mean Squared Error: 4.536852205977534e+37\n"
          ]
        }
      ],
      "source": [
        "# Evaluate the linear regression model\n",
        "mse = mean_squared_error(y_test, y_pred)\n",
        "print(f'Linear Regression Mean Squared Error: {mse}')\n"
      ]
    },
    {
      "cell_type": "code",
      "execution_count": null,
      "metadata": {
        "id": "NqxRuZteQg2o"
      },
      "outputs": [],
      "source": [
        "# Train a neural network model (TensorFlow)\n",
        "model = Sequential()\n",
        "model.add(Dense(64, activation='relu', input_dim=X_train_scaled.shape[1]))\n",
        "model.add(Dense(32, activation='relu'))\n",
        "model.add(Dense(1))"
      ]
    },
    {
      "cell_type": "code",
      "execution_count": null,
      "metadata": {
        "colab": {
          "background_save": true,
          "base_uri": "https://localhost:8080/"
        },
        "id": "44LVv_j0QhdA",
        "outputId": "624b71cc-db10-4a79-eecb-f1b5faa375f8"
      },
      "outputs": [
        {
          "name": "stdout",
          "output_type": "stream",
          "text": [
            "Epoch 1/50\n",
            "729/729 [==============================] - 7s 8ms/step - loss: 666480274309120.0000 - val_loss: 896942582267904.0000\n",
            "Epoch 2/50\n",
            "729/729 [==============================] - 5s 7ms/step - loss: 663603048873984.0000 - val_loss: 891111627292672.0000\n",
            "Epoch 3/50\n",
            "729/729 [==============================] - 4s 5ms/step - loss: 654809170444288.0000 - val_loss: 878259474530304.0000\n",
            "Epoch 4/50\n",
            "729/729 [==============================] - 3s 5ms/step - loss: 639109789908992.0000 - val_loss: 858245530910720.0000\n",
            "Epoch 5/50\n",
            "729/729 [==============================] - 4s 6ms/step - loss: 618307652681728.0000 - val_loss: 834824000503808.0000\n",
            "Epoch 6/50\n",
            "729/729 [==============================] - 4s 5ms/step - loss: 596179310084096.0000 - val_loss: 812117582151680.0000\n",
            "Epoch 7/50\n",
            "729/729 [==============================] - 4s 5ms/step - loss: 576727201873920.0000 - val_loss: 793590838067200.0000\n",
            "Epoch 8/50\n",
            "729/729 [==============================] - 4s 6ms/step - loss: 562377414148096.0000 - val_loss: 781268107132928.0000\n",
            "Epoch 9/50\n",
            "729/729 [==============================] - 4s 5ms/step - loss: 553502065557504.0000 - val_loss: 774044844556288.0000\n",
            "Epoch 10/50\n",
            "729/729 [==============================] - 3s 5ms/step - loss: 548407798136832.0000 - val_loss: 769835441061888.0000\n",
            "Epoch 11/50\n",
            "729/729 [==============================] - 4s 5ms/step - loss: 545264754491392.0000 - val_loss: 766949424365568.0000\n",
            "Epoch 12/50\n",
            "729/729 [==============================] - 4s 6ms/step - loss: 542952082374656.0000 - val_loss: 764748723388416.0000\n",
            "Epoch 13/50\n",
            "729/729 [==============================] - 3s 5ms/step - loss: 540931669360640.0000 - val_loss: 762701164838912.0000\n",
            "Epoch 14/50\n",
            "729/729 [==============================] - 3s 5ms/step - loss: 539009671495680.0000 - val_loss: 760747357372416.0000\n",
            "Epoch 15/50\n",
            "729/729 [==============================] - 4s 6ms/step - loss: 537109551120384.0000 - val_loss: 758813145694208.0000\n",
            "Epoch 16/50\n",
            "729/729 [==============================] - 4s 5ms/step - loss: 535232851738624.0000 - val_loss: 756911884468224.0000\n",
            "Epoch 17/50\n",
            "729/729 [==============================] - 3s 5ms/step - loss: 533369842565120.0000 - val_loss: 755009482391552.0000\n",
            "Epoch 18/50\n",
            "729/729 [==============================] - 4s 6ms/step - loss: 531518141235200.0000 - val_loss: 753125401034752.0000\n",
            "Epoch 19/50\n",
            "729/729 [==============================] - 3s 5ms/step - loss: 529680331440128.0000 - val_loss: 751249909612544.0000\n",
            "Epoch 20/50\n",
            "729/729 [==============================] - 3s 5ms/step - loss: 527820207947776.0000 - val_loss: 749364083425280.0000\n",
            "Epoch 21/50\n",
            "729/729 [==============================] - 4s 5ms/step - loss: 525999477358592.0000 - val_loss: 747524696571904.0000\n",
            "Epoch 22/50\n",
            "729/729 [==============================] - 4s 5ms/step - loss: 524202704633856.0000 - val_loss: 745728460718080.0000\n",
            "Epoch 23/50\n",
            "729/729 [==============================] - 3s 5ms/step - loss: 522435191373824.0000 - val_loss: 743940076601344.0000\n",
            "Epoch 24/50\n",
            "729/729 [==============================] - 3s 5ms/step - loss: 520668147875840.0000 - val_loss: 742166791979008.0000\n",
            "Epoch 25/50\n",
            "729/729 [==============================] - 5s 7ms/step - loss: 518931236257792.0000 - val_loss: 740451288088576.0000\n",
            "Epoch 26/50\n",
            "729/729 [==============================] - 3s 5ms/step - loss: 517232845127680.0000 - val_loss: 738733569605632.0000\n",
            "Epoch 27/50\n",
            "729/729 [==============================] - 4s 5ms/step - loss: 515551902302208.0000 - val_loss: 737046184329216.0000\n",
            "Epoch 28/50\n",
            "729/729 [==============================] - 5s 6ms/step - loss: 513900353159168.0000 - val_loss: 735417989070848.0000\n",
            "Epoch 29/50\n",
            "729/729 [==============================] - 3s 5ms/step - loss: 512286854742016.0000 - val_loss: 733816771575808.0000\n",
            "Epoch 30/50\n",
            "729/729 [==============================] - 3s 5ms/step - loss: 510692784340992.0000 - val_loss: 732229579833344.0000\n",
            "Epoch 31/50\n",
            "729/729 [==============================] - 4s 6ms/step - loss: 509153843871744.0000 - val_loss: 730736810262528.0000\n",
            "Epoch 32/50\n",
            "729/729 [==============================] - 4s 5ms/step - loss: 507671476174848.0000 - val_loss: 729270884237312.0000\n",
            "Epoch 33/50\n",
            "729/729 [==============================] - 3s 5ms/step - loss: 506220750307328.0000 - val_loss: 727860994113536.0000\n",
            "Epoch 34/50\n",
            "729/729 [==============================] - 3s 5ms/step - loss: 504789519564800.0000 - val_loss: 726444997083136.0000\n",
            "Epoch 35/50\n",
            "729/729 [==============================] - 5s 7ms/step - loss: 503400131198976.0000 - val_loss: 725115167834112.0000\n",
            "Epoch 36/50\n",
            "729/729 [==============================] - 4s 5ms/step - loss: 502051041705984.0000 - val_loss: 723800102535168.0000\n",
            "Epoch 37/50\n",
            "729/729 [==============================] - 3s 5ms/step - loss: 500737956118528.0000 - val_loss: 722533288509440.0000\n",
            "Epoch 38/50\n",
            "729/729 [==============================] - 4s 6ms/step - loss: 499449063276544.0000 - val_loss: 721291841634304.0000\n",
            "Epoch 39/50\n",
            "729/729 [==============================] - 3s 5ms/step - loss: 498197415854080.0000 - val_loss: 720082674122752.0000\n",
            "Epoch 40/50\n",
            "729/729 [==============================] - 3s 5ms/step - loss: 496976940498944.0000 - val_loss: 718921086795776.0000\n",
            "Epoch 41/50\n",
            "729/729 [==============================] - 4s 6ms/step - loss: 495810923986944.0000 - val_loss: 717804059754496.0000\n",
            "Epoch 42/50\n",
            "729/729 [==============================] - 3s 5ms/step - loss: 494688259801088.0000 - val_loss: 716734478680064.0000\n",
            "Epoch 43/50\n",
            "729/729 [==============================] - 4s 5ms/step - loss: 493620255784960.0000 - val_loss: 715734959259648.0000\n",
            "Epoch 44/50\n",
            "729/729 [==============================] - 3s 5ms/step - loss: 492580974362624.0000 - val_loss: 714750807769088.0000\n",
            "Epoch 45/50\n",
            "729/729 [==============================] - 5s 6ms/step - loss: 491593836527616.0000 - val_loss: 713817323470848.0000\n",
            "Epoch 46/50\n",
            "729/729 [==============================] - 4s 5ms/step - loss: 490611362758656.0000 - val_loss: 712881087709184.0000\n",
            "Epoch 47/50\n",
            "729/729 [==============================] - 3s 5ms/step - loss: 489657007603712.0000 - val_loss: 712007128973312.0000\n",
            "Epoch 48/50\n",
            "729/729 [==============================] - 4s 6ms/step - loss: 488748823347200.0000 - val_loss: 711144176091136.0000\n",
            "Epoch 49/50\n",
            "729/729 [==============================] - 3s 5ms/step - loss: 487844330078208.0000 - val_loss: 710290484232192.0000\n",
            "Epoch 50/50\n",
            "729/729 [==============================] - 4s 5ms/step - loss: 486971948400640.0000 - val_loss: 709489741266944.0000\n"
          ]
        },
        {
          "data": {
            "text/plain": [
              "<keras.src.callbacks.History at 0x7bd74e08c160>"
            ]
          },
          "execution_count": 35,
          "metadata": {},
          "output_type": "execute_result"
        }
      ],
      "source": [
        "model.compile(optimizer='adam', loss='mean_squared_error')\n",
        "\n",
        "model.fit(X_train_scaled, y_train, epochs=50, batch_size=32, validation_data=(X_test_scaled, y_test))\n"
      ]
    },
    {
      "cell_type": "code",
      "execution_count": null,
      "metadata": {
        "colab": {
          "background_save": true
        },
        "id": "qz-r32OPQnmF",
        "outputId": "1afdfc30-1d41-4ef9-c704-cfd8a276eba7"
      },
      "outputs": [
        {
          "name": "stdout",
          "output_type": "stream",
          "text": [
            "183/183 [==============================] - 1s 3ms/step\n"
          ]
        }
      ],
      "source": [
        "# Make predictions using the neural network model\n",
        "y_pred_nn = model.predict(X_test_scaled)\n"
      ]
    },
    {
      "cell_type": "code",
      "execution_count": null,
      "metadata": {
        "colab": {
          "background_save": true
        },
        "id": "3oIxvYMFQoPd",
        "outputId": "2dd16a13-96b0-4e54-aa8e-04a22b77a35b"
      },
      "outputs": [
        {
          "name": "stdout",
          "output_type": "stream",
          "text": [
            "Neural Network Mean Squared Error: 709489935156331.8\n"
          ]
        }
      ],
      "source": [
        "# Evaluate the neural network model\n",
        "mse_nn = mean_squared_error(y_test, y_pred_nn)\n",
        "print(f'Neural Network Mean Squared Error: {mse_nn}')"
      ]
    },
    {
      "cell_type": "code",
      "execution_count": null,
      "metadata": {
        "colab": {
          "background_save": true
        },
        "id": "F7nBKXmCTYqS"
      },
      "outputs": [],
      "source": []
    }
  ],
  "metadata": {
    "colab": {
      "provenance": []
    },
    "kernelspec": {
      "display_name": "Python 3",
      "name": "python3"
    },
    "language_info": {
      "name": "python"
    }
  },
  "nbformat": 4,
  "nbformat_minor": 0
}